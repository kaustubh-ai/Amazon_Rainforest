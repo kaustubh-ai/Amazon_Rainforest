{
 "cells": [
  {
   "cell_type": "code",
   "execution_count": 31,
   "metadata": {
    "colab": {
     "base_uri": "https://localhost:8080/",
     "height": 34
    },
    "colab_type": "code",
    "id": "DmKaz-malu6v",
    "outputId": "0e53e47a-5c28-4360-dc38-afd8ec406d99"
   },
   "outputs": [
    {
     "name": "stdout",
     "output_type": "stream",
     "text": [
      "Drive already mounted at /content/gdrive; to attempt to forcibly remount, call drive.mount(\"/content/gdrive\", force_remount=True).\n"
     ]
    }
   ],
   "source": [
    "from google.colab import drive\n",
    "drive.mount('/content/gdrive')"
   ]
  },
  {
   "cell_type": "code",
   "execution_count": 2,
   "metadata": {
    "colab": {
     "base_uri": "https://localhost:8080/",
     "height": 34
    },
    "colab_type": "code",
    "id": "kmGSdTmfl8Tm",
    "outputId": "b44a33a0-d004-47a1-e35d-d3d3b987bcce"
   },
   "outputs": [
    {
     "data": {
      "text/plain": [
       "'MLB.py'"
      ]
     },
     "execution_count": 2,
     "metadata": {
      "tags": []
     },
     "output_type": "execute_result"
    }
   ],
   "source": [
    "from shutil import copyfile\n",
    "copyfile('/content/gdrive/My Drive/MLB.py', 'MLB.py')"
   ]
  },
  {
   "cell_type": "code",
   "execution_count": 3,
   "metadata": {
    "colab": {
     "base_uri": "https://localhost:8080/",
     "height": 52
    },
    "colab_type": "code",
    "id": "asxVFlXpl8eP",
    "outputId": "de93dcd5-7533-4c9d-936c-8c4cf79ea2b0"
   },
   "outputs": [
    {
     "name": "stdout",
     "output_type": "stream",
     "text": [
      "Extracting all the files now...\n",
      "Done!\n"
     ]
    }
   ],
   "source": [
    "from zipfile import ZipFile\n",
    "with ZipFile('/content/gdrive/My Drive/data.zip', 'r') as zip:\n",
    "    print('Extracting all the files now...') \n",
    "    zip.extractall() \n",
    "    print('Done!') "
   ]
  },
  {
   "cell_type": "code",
   "execution_count": 4,
   "metadata": {
    "colab": {
     "base_uri": "https://localhost:8080/",
     "height": 169
    },
    "colab_type": "code",
    "id": "VakPSxSNl8kr",
    "outputId": "52afadbd-a940-469c-cc1a-c7d17436ec5f"
   },
   "outputs": [
    {
     "name": "stdout",
     "output_type": "stream",
     "text": [
      "Collecting scikit-multilearn\n",
      "\u001b[?25l  Downloading https://files.pythonhosted.org/packages/bb/1f/e6ff649c72a1cdf2c7a1d31eb21705110ce1c5d3e7e26b2cc300e1637272/scikit_multilearn-0.2.0-py3-none-any.whl (89kB)\n",
      "\r",
      "\u001b[K     |███▊                            | 10kB 27.9MB/s eta 0:00:01\r",
      "\u001b[K     |███████▍                        | 20kB 2.1MB/s eta 0:00:01\r",
      "\u001b[K     |███████████                     | 30kB 2.9MB/s eta 0:00:01\r",
      "\u001b[K     |██████████████▊                 | 40kB 2.1MB/s eta 0:00:01\r",
      "\u001b[K     |██████████████████▍             | 51kB 2.3MB/s eta 0:00:01\r",
      "\u001b[K     |██████████████████████          | 61kB 2.8MB/s eta 0:00:01\r",
      "\u001b[K     |█████████████████████████▊      | 71kB 3.1MB/s eta 0:00:01\r",
      "\u001b[K     |█████████████████████████████▍  | 81kB 3.4MB/s eta 0:00:01\r",
      "\u001b[K     |████████████████████████████████| 92kB 3.1MB/s \n",
      "\u001b[?25hInstalling collected packages: scikit-multilearn\n",
      "Successfully installed scikit-multilearn-0.2.0\n"
     ]
    },
    {
     "name": "stderr",
     "output_type": "stream",
     "text": [
      "Using TensorFlow backend.\n"
     ]
    },
    {
     "data": {
      "text/html": [
       "<p style=\"color: red;\">\n",
       "The default version of TensorFlow in Colab will soon switch to TensorFlow 2.x.<br>\n",
       "We recommend you <a href=\"https://www.tensorflow.org/guide/migrate\" target=\"_blank\">upgrade</a> now \n",
       "or ensure your notebook will continue to use TensorFlow 1.x via the <code>%tensorflow_version 1.x</code> magic:\n",
       "<a href=\"https://colab.research.google.com/notebooks/tensorflow_version.ipynb\" target=\"_blank\">more info</a>.</p>\n"
      ],
      "text/plain": [
       "<IPython.core.display.HTML object>"
      ]
     },
     "metadata": {
      "tags": []
     },
     "output_type": "display_data"
    }
   ],
   "source": [
    "!pip install scikit-multilearn\n",
    "\n",
    "import os\n",
    "import shutil\n",
    "import numpy as np\n",
    "import pandas as pd\n",
    "\n",
    "import keras\n",
    "import keras.backend as K\n",
    "from keras.models import Model\n",
    "from keras.optimizers import Adam\n",
    "from keras.models import Sequential\n",
    "from keras.models import model_from_json\n",
    "from keras.applications.vgg16 import VGG16, preprocess_input\n",
    "from keras.preprocessing.image import ImageDataGenerator as ImageDataGen\n",
    "from keras.callbacks import EarlyStopping, ModelCheckpoint, Callback, ReduceLROnPlateau\n",
    "from keras.layers import Dense, Dropout, BatchNormalization, Conv2D, MaxPooling2D, Flatten, GlobalAveragePooling2D, Input\n",
    "\n",
    "from sklearn.metrics import fbeta_score\n",
    "from sklearn.preprocessing import MultiLabelBinarizer\n",
    "\n",
    "from MLB import ImageDataGenerator\n",
    "\n",
    "from skmultilearn.model_selection import iterative_train_test_split\n",
    "\n",
    "xx, yy, channel, epochs = 64, 64, 'rgb', 10"
   ]
  },
  {
   "cell_type": "code",
   "execution_count": 0,
   "metadata": {
    "colab": {},
    "colab_type": "code",
    "id": "FSkFiYhLl8oV"
   },
   "outputs": [],
   "source": [
    "data_dir = '/content/data'"
   ]
  },
  {
   "cell_type": "code",
   "execution_count": 0,
   "metadata": {
    "colab": {},
    "colab_type": "code",
    "id": "qYPQNAwVl8xB"
   },
   "outputs": [],
   "source": [
    "def df_create(X, y, mlb):\n",
    "    return pd.DataFrame({'Image': X.reshape(X.shape[0]), \n",
    "                         'Label': mlb.inverse_transform(y)})\n",
    "\n",
    "def multi_split(df, img_format='png'):\n",
    "    \n",
    "    col_0, col_1 = df.columns[0], df.columns[1]\n",
    "    \n",
    "    df[col_1] = df[col_1].str.split(' ')\n",
    "    df[col_0] = df[col_0].apply(lambda x: x + '.{}'.format(img_format))\n",
    "    \n",
    "    X = df[col_0].values\n",
    "    X = X.reshape(X.shape[0], 1)\n",
    "    mlb = MultiLabelBinarizer()\n",
    "    y = mlb.fit_transform([i for i in df[col_1]])\n",
    "    \n",
    "    X_train, y_train, X_test, y_test = iterative_train_test_split(X, y, test_size=0.06)\n",
    "    \n",
    "    df_train = df_create(X_train, y_train, mlb)\n",
    "    df_test = df_create(X_test, y_test, mlb)\n",
    "    \n",
    "    return df_train, df_test"
   ]
  },
  {
   "cell_type": "code",
   "execution_count": 0,
   "metadata": {
    "colab": {},
    "colab_type": "code",
    "id": "MsqJukYul80Z"
   },
   "outputs": [],
   "source": [
    "df = pd.read_csv(os.path.join(data_dir, 'labels/train_v2.csv'))\n",
    "\n",
    "df_train, df_val = multi_split(df, img_format='jpg')"
   ]
  },
  {
   "cell_type": "code",
   "execution_count": 8,
   "metadata": {
    "colab": {
     "base_uri": "https://localhost:8080/",
     "height": 70
    },
    "colab_type": "code",
    "id": "c5jhCW_bl8si",
    "outputId": "e6a7a377-e1cf-44e9-d40f-8351a7d324c7"
   },
   "outputs": [
    {
     "name": "stdout",
     "output_type": "stream",
     "text": [
      "Found 38017 images belonging to 17 classes.\n",
      "Found 2462 images belonging to 17 classes.\n",
      "Found 61191 images belonging to 1 classes.\n"
     ]
    }
   ],
   "source": [
    "train_datagen = ImageDataGenerator(preprocessing_function=preprocess_input, horizontal_flip=True, vertical_flip=True)\n",
    "val_datagen = ImageDataGenerator(preprocessing_function=preprocess_input)\n",
    "test_datagen = ImageDataGen(preprocessing_function=preprocess_input)\n",
    "\n",
    "train_iter = train_datagen.flow_from_directory(os.path.join(data_dir, 'train'), target_size=(xx, yy), batch_size=28, \n",
    "                                               shuffle=True, dataframe=df_train)  \n",
    "val_iter = val_datagen.flow_from_directory(os.path.join(data_dir, 'train'), target_size=(xx, yy), batch_size=19, \n",
    "                                           shuffle=False, dataframe=df_val)\n",
    "test_iter = test_datagen.flow_from_directory(os.path.join(data_dir, 'test'), target_size=(xx, yy), batch_size=13, \n",
    "                                             shuffle=False) \n",
    "\n",
    "train_steps = train_iter.n // train_iter.batch_size\n",
    "val_steps = val_iter.n // val_iter.batch_size\n",
    "test_steps = test_iter.n // test_iter.batch_size"
   ]
  },
  {
   "cell_type": "code",
   "execution_count": 0,
   "metadata": {
    "colab": {},
    "colab_type": "code",
    "id": "IBx_y7dixRWZ"
   },
   "outputs": [],
   "source": [
    "input_tensor = Input(shape=(xx, yy, 3))\n",
    "\n",
    "base_model = VGG16(include_top=False,\n",
    "                   weights='imagenet',\n",
    "                   input_shape=(xx, yy, 3))\n",
    "\n",
    "bn = BatchNormalization()(input_tensor)\n",
    "x = base_model(bn)\n",
    "x = Flatten()(x)\n",
    "output = Dense(17, activation='sigmoid')(x)\n",
    "\n",
    "model = Model(input_tensor, output)"
   ]
  },
  {
   "cell_type": "code",
   "execution_count": 0,
   "metadata": {
    "colab": {},
    "colab_type": "code",
    "id": "Kkwx6wOKxRSr"
   },
   "outputs": [],
   "source": [
    "es = EarlyStopping(patience=3)\n",
    "mc = ModelCheckpoint('planet_weights(vgg16).h5', save_best_only=True, save_weights_only=True)\n",
    "lrop = ReduceLROnPlateau(monitor='val_loss', factor=0.1, patience=2, cooldown=0, min_lr=1e-6, verbose=1)\n",
    "\n",
    "def fbeta(y_true, y_pred, threshold_shift=0.2):\n",
    "    beta = 2\n",
    "    y_pred = K.cast(K.greater(K.clip(y_pred, 0, 1), threshold_shift), K.floatx())\n",
    "    tp = K.sum(K.round(y_true * y_pred)) + K.epsilon()\n",
    "    fp = K.sum(K.round(K.clip(y_pred - y_true, 0, 1)))\n",
    "    fn = K.sum(K.round(K.clip(y_true - y_pred, 0, 1)))\n",
    "    precision = tp / (tp + fp)\n",
    "    recall = tp / (tp + fn)\n",
    "    beta_squared = beta ** 2\n",
    "    return (beta_squared + 1) * (precision * recall) / (beta_squared * precision + recall + K.epsilon())\n",
    "    \n",
    "model.compile(optimizer=Adam(lr=0.001), metrics=['accuracy', fbeta], loss='binary_crossentropy')"
   ]
  },
  {
   "cell_type": "code",
   "execution_count": 11,
   "metadata": {
    "colab": {
     "base_uri": "https://localhost:8080/",
     "height": 459
    },
    "colab_type": "code",
    "id": "yeidJr8YxROg",
    "outputId": "e790d41e-bcf2-4840-86cc-3641996b01c1"
   },
   "outputs": [
    {
     "name": "stdout",
     "output_type": "stream",
     "text": [
      "WARNING:tensorflow:From /usr/local/lib/python3.6/dist-packages/keras/backend/tensorflow_backend.py:1033: The name tf.assign_add is deprecated. Please use tf.compat.v1.assign_add instead.\n",
      "\n",
      "WARNING:tensorflow:From /usr/local/lib/python3.6/dist-packages/keras/backend/tensorflow_backend.py:1020: The name tf.assign is deprecated. Please use tf.compat.v1.assign instead.\n",
      "\n",
      "Epoch 1/10\n",
      "1357/1357 [==============================] - 174s 128ms/step - loss: 0.1834 - acc: 0.9258 - fbeta: 0.8047 - val_loss: 0.1630 - val_acc: 0.9344 - val_fbeta: 0.8273\n",
      "Epoch 2/10\n",
      "1357/1357 [==============================] - 161s 119ms/step - loss: 0.1573 - acc: 0.9363 - fbeta: 0.8344 - val_loss: 0.1493 - val_acc: 0.9415 - val_fbeta: 0.8466\n",
      "Epoch 3/10\n",
      "1357/1357 [==============================] - 158s 116ms/step - loss: 0.1461 - acc: 0.9406 - fbeta: 0.8480 - val_loss: 0.1368 - val_acc: 0.9448 - val_fbeta: 0.8593\n",
      "Epoch 4/10\n",
      "1357/1357 [==============================] - 151s 111ms/step - loss: 0.1400 - acc: 0.9433 - fbeta: 0.8547 - val_loss: 0.1429 - val_acc: 0.9421 - val_fbeta: 0.8560\n",
      "Epoch 5/10\n",
      "1357/1357 [==============================] - 151s 111ms/step - loss: 0.1374 - acc: 0.9442 - fbeta: 0.8580 - val_loss: 0.1332 - val_acc: 0.9463 - val_fbeta: 0.8626\n",
      "Epoch 6/10\n",
      "1357/1357 [==============================] - 146s 108ms/step - loss: 0.1325 - acc: 0.9464 - fbeta: 0.8638 - val_loss: 0.1338 - val_acc: 0.9461 - val_fbeta: 0.8658\n",
      "Epoch 7/10\n",
      "1357/1357 [==============================] - 146s 107ms/step - loss: 0.1299 - acc: 0.9482 - fbeta: 0.8679 - val_loss: 0.1329 - val_acc: 0.9476 - val_fbeta: 0.8653\n",
      "Epoch 8/10\n",
      "1357/1357 [==============================] - 145s 107ms/step - loss: 0.1264 - acc: 0.9500 - fbeta: 0.8721 - val_loss: 0.1292 - val_acc: 0.9484 - val_fbeta: 0.8694\n",
      "Epoch 9/10\n",
      "1357/1357 [==============================] - 152s 112ms/step - loss: 0.1237 - acc: 0.9511 - fbeta: 0.8755 - val_loss: 0.1227 - val_acc: 0.9521 - val_fbeta: 0.8791\n",
      "Epoch 10/10\n",
      "1357/1357 [==============================] - 148s 109ms/step - loss: 0.1223 - acc: 0.9521 - fbeta: 0.8770 - val_loss: 0.1212 - val_acc: 0.9538 - val_fbeta: 0.8791\n"
     ]
    }
   ],
   "source": [
    "hist = model.fit_generator(train_iter, steps_per_epoch=train_steps, epochs=epochs, verbose=1, callbacks=[es, mc],\n",
    "                           validation_data=val_iter, validation_steps=val_steps)"
   ]
  },
  {
   "cell_type": "code",
   "execution_count": 0,
   "metadata": {
    "colab": {},
    "colab_type": "code",
    "id": "juNxkU3o3_U0"
   },
   "outputs": [],
   "source": [
    "with open('amazon_arch.json', 'w') as f:\n",
    "    f.write(model.to_json())"
   ]
  },
  {
   "cell_type": "code",
   "execution_count": 0,
   "metadata": {
    "colab": {},
    "colab_type": "code",
    "id": "jOst2qSc5j-p"
   },
   "outputs": [],
   "source": [
    "with open('amazon_arch.json', 'r') as f:\n",
    "    model = model_from_json(f.read())\n",
    "\n",
    "model.load_weights('planet_weights(vgg16).h5')"
   ]
  },
  {
   "cell_type": "code",
   "execution_count": 29,
   "metadata": {
    "colab": {
     "base_uri": "https://localhost:8080/",
     "height": 52
    },
    "colab_type": "code",
    "id": "M1yoie-hxRJk",
    "outputId": "23b09a35-ee63-4274-f5b5-4290d874fdeb"
   },
   "outputs": [
    {
     "name": "stdout",
     "output_type": "stream",
     "text": [
      "4707/4707 [==============================] - 132s 28ms/step\n",
      "129/129 [==============================] - 6s 44ms/step\n"
     ]
    }
   ],
   "source": [
    "# test_iter.reset()\n",
    "y_pred = model.predict_generator(test_iter, steps=test_steps, verbose=1)\n",
    "y_pred_val = model.predict_generator(val_iter, steps=val_steps, verbose=1)"
   ]
  },
  {
   "cell_type": "code",
   "execution_count": 0,
   "metadata": {
    "colab": {},
    "colab_type": "code",
    "id": "XDt4qP04xRFE"
   },
   "outputs": [],
   "source": [
    "def find_f2score_threshold(y_true, pred, try_all=False, verbose=False):\n",
    "    \n",
    "    best, best_score = 0, -1\n",
    "    totry = np.arange(0, 1, 0.005) if try_all is False else np.unique(p_valid)\n",
    "    \n",
    "    for t in totry:\n",
    "        score = fbeta_score(y_true, pred>t, beta=2, average='samples')\n",
    "        if score > best_score:\n",
    "            best_score = score\n",
    "            best = t\n",
    "            \n",
    "    if verbose is True: \n",
    "        print('Best score: ', round(best_score, 5), ' @ threshold =', best)\n",
    "\n",
    "    return best"
   ]
  },
  {
   "cell_type": "code",
   "execution_count": 20,
   "metadata": {
    "colab": {
     "base_uri": "https://localhost:8080/",
     "height": 52
    },
    "colab_type": "code",
    "id": "9UQPE5R_xRBJ",
    "outputId": "3394fdff-e68b-44db-9eac-e51fa93073f3"
   },
   "outputs": [
    {
     "name": "stdout",
     "output_type": "stream",
     "text": [
      "Best score:  0.89607  @ threshold = 0.20500000000000002\n"
     ]
    },
    {
     "data": {
      "text/plain": [
       "0.20500000000000002"
      ]
     },
     "execution_count": 20,
     "metadata": {
      "tags": []
     },
     "output_type": "execute_result"
    }
   ],
   "source": [
    "classes = [i for i in df_val[df_val.columns[1]]]\n",
    "mlb = MultiLabelBinarizer()\n",
    "y_true = mlb.fit_transform(classes)\n",
    "\n",
    "sco = find_f2score_threshold(y_true[:2451], y_pred_val, False, True)\n",
    "sco"
   ]
  },
  {
   "cell_type": "code",
   "execution_count": 0,
   "metadata": {
    "colab": {},
    "colab_type": "code",
    "id": "dSPiqzZcxQ9I"
   },
   "outputs": [],
   "source": [
    "inv = {v: k for k, v in train_iter.class_indices.items()}\n",
    "label = []\n",
    "\n",
    "for i in range(y_pred.shape[0]):\n",
    "    arr = np.argwhere(y_pred[i] > sco)\n",
    "    s = ''\n",
    "    for j in range(arr.shape[0]):\n",
    "        s += inv.get(arr[j, 0]) + ' '\n",
    "    label.append(s)\n",
    "\n",
    "img = os.listdir(os.path.join(data_dir, 'test/test'))\n",
    "img = [i.split('.')[0] for i in img]"
   ]
  },
  {
   "cell_type": "code",
   "execution_count": 0,
   "metadata": {
    "colab": {},
    "colab_type": "code",
    "id": "l9TyqTMExQ4B"
   },
   "outputs": [],
   "source": [
    "df = pd.DataFrame({'image_name': img,\n",
    "                   'tags'      : label})\n",
    "\n",
    "df.to_csv('multi.csv', index=False)"
   ]
  },
  {
   "cell_type": "code",
   "execution_count": 0,
   "metadata": {
    "colab": {},
    "colab_type": "code",
    "id": "sj24GBm9GVyC"
   },
   "outputs": [],
   "source": [
    "df_file = df.loc[df['image_name'].str.contains('file')]\n",
    "df_test = df.loc[df['image_name'].str.contains('test')]"
   ]
  },
  {
   "cell_type": "code",
   "execution_count": 0,
   "metadata": {
    "colab": {},
    "colab_type": "code",
    "id": "tUHPz_mlMozA"
   },
   "outputs": [],
   "source": [
    "df_file.sort_values('image_name', inplace=True)"
   ]
  },
  {
   "cell_type": "code",
   "execution_count": 0,
   "metadata": {
    "colab": {},
    "colab_type": "code",
    "id": "CkjDh4FEMoua"
   },
   "outputs": [],
   "source": [
    "df_test['image_name'] = df_test['image_name'].apply(lambda x: int(x.split('_')[-1]))\n",
    "df_test.sort_values('image_name', inplace=True)\n",
    "df_test['image_name'] = df_test['image_name'].apply(lambda x: 'test_' + str(x))"
   ]
  },
  {
   "cell_type": "code",
   "execution_count": 0,
   "metadata": {
    "colab": {},
    "colab_type": "code",
    "id": "qAKCBYHqMonf"
   },
   "outputs": [],
   "source": [
    "pd.concat([df_test, df_file]).to_csv('submission.csv', index=False)"
   ]
  },
  {
   "cell_type": "code",
   "execution_count": 0,
   "metadata": {
    "colab": {},
    "colab_type": "code",
    "id": "QptxZBzFMokG"
   },
   "outputs": [],
   "source": []
  }
 ],
 "metadata": {
  "accelerator": "GPU",
  "colab": {
   "collapsed_sections": [],
   "name": "Amazon.ipynb",
   "provenance": []
  },
  "kernelspec": {
   "display_name": "Python 3",
   "language": "python",
   "name": "python3"
  },
  "language_info": {
   "codemirror_mode": {
    "name": "ipython",
    "version": 3
   },
   "file_extension": ".py",
   "mimetype": "text/x-python",
   "name": "python",
   "nbconvert_exporter": "python",
   "pygments_lexer": "ipython3",
   "version": "3.7.3"
  }
 },
 "nbformat": 4,
 "nbformat_minor": 1
}
